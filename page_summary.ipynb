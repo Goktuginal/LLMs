{
 "cells": [
  {
   "cell_type": "code",
   "execution_count": 1,
   "id": "e3a0a7bd-10e6-4823-a405-222657a08473",
   "metadata": {},
   "outputs": [],
   "source": [
    "# imports\n",
    "\n",
    "import requests\n",
    "from bs4 import BeautifulSoup\n",
    "from IPython.display import Markdown, display"
   ]
  },
  {
   "cell_type": "code",
   "execution_count": 2,
   "id": "00eae072-888c-40de-a49b-a44b7ca8e571",
   "metadata": {},
   "outputs": [],
   "source": [
    "# Constants\n",
    "\n",
    "OLLAMA_API = \"http://localhost:11434/api/chat\"\n",
    "HEADERS = {\"Content-Type\": \"application/json\"}\n",
    "MODEL = \"llama3.2\""
   ]
  },
  {
   "cell_type": "code",
   "execution_count": 3,
   "id": "38447724-12da-4b98-b9ce-0a8d082641c4",
   "metadata": {},
   "outputs": [],
   "source": [
    "# Create a messages list using the same format that we used for OpenAI\n",
    "\n",
    "messages = [\n",
    "    {\"role\": \"user\", \"content\": \"Describe some of the business applications of Generative AI\"}\n",
    "]"
   ]
  },
  {
   "cell_type": "code",
   "execution_count": 4,
   "id": "abef6fc6-3a26-4c9c-ace0-2951c3d0317f",
   "metadata": {},
   "outputs": [],
   "source": [
    "payload = {\n",
    "        \"model\": MODEL,\n",
    "        \"messages\": messages,\n",
    "        \"stream\": False\n",
    "    }"
   ]
  },
  {
   "cell_type": "code",
   "execution_count": 6,
   "id": "079b3a59-7ecb-441f-8327-896235c63f28",
   "metadata": {},
   "outputs": [
    {
     "name": "stdout",
     "output_type": "stream",
     "text": [
      "\u001b[?2026h\u001b[?25l\u001b[1Gpulling manifest ⠋ \u001b[K\u001b[?25h\u001b[?2026l\u001b[?2026h\u001b[?25l\u001b[1Gpulling manifest ⠙ \u001b[K\u001b[?25h\u001b[?2026l\u001b[?2026h\u001b[?25l\u001b[1Gpulling manifest ⠹ \u001b[K\u001b[?25h\u001b[?2026l\u001b[?2026h\u001b[?25l\u001b[1Gpulling manifest ⠸ \u001b[K\u001b[?25h\u001b[?2026l\u001b[?2026h\u001b[?25l\u001b[1Gpulling manifest ⠼ \u001b[K\u001b[?25h\u001b[?2026l\u001b[?2026h\u001b[?25l\u001b[1Gpulling manifest ⠴ \u001b[K\u001b[?25h\u001b[?2026l\u001b[?2026h\u001b[?25l\u001b[1Gpulling manifest ⠦ \u001b[K\u001b[?25h\u001b[?2026l\u001b[?2026h\u001b[?25l\u001b[1Gpulling manifest ⠧ \u001b[K\u001b[?25h\u001b[?2026l\u001b[?2026h\u001b[?25l\u001b[1Gpulling manifest \u001b[K\n",
      "pulling dde5aa3fc5ff... 100% ▕████████████████▏ 2.0 GB                         \u001b[K\n",
      "pulling 966de95ca8a6... 100% ▕████████████████▏ 1.4 KB                         \u001b[K\n",
      "pulling fcc5a6bec9da... 100% ▕████████████████▏ 7.7 KB                         \u001b[K\n",
      "pulling a70ff7e570d9... 100% ▕████████████████▏ 6.0 KB                         \u001b[K\n",
      "pulling 56bb8bd477a5... 100% ▕████████████████▏   96 B                         \u001b[K\n",
      "pulling 34bb5ab01051... 100% ▕████████████████▏  561 B                         \u001b[K\n",
      "verifying sha256 digest \u001b[K\n",
      "writing manifest \u001b[K\n",
      "success \u001b[K\u001b[?25h\u001b[?2026l\n"
     ]
    }
   ],
   "source": [
    "# Let's just make sure the model is loaded\n",
    "\n",
    "!ollama pull llama3.2"
   ]
  },
  {
   "cell_type": "code",
   "execution_count": 7,
   "id": "18d6d4e0-4321-4851-9c09-59fd03437598",
   "metadata": {},
   "outputs": [
    {
     "name": "stdout",
     "output_type": "stream",
     "text": [
      "Generative AI has numerous business applications across various industries, including:\n",
      "\n",
      "1. **Content Generation**: AI-powered tools can generate high-quality content such as articles, blog posts, social media posts, and product descriptions, saving time and resources for content creators.\n",
      "2. **Personalized Customer Experience**: Generative AI can analyze customer data and create personalized recommendations, offers, and experiences, improving customer engagement and loyalty.\n",
      "3. **Marketing Automation**: AI-powered marketing tools can automate tasks such as lead generation, email marketing, and social media management, increasing efficiency and reducing costs.\n",
      "4. **Image and Video Creation**: Generative AI can generate high-quality images and videos for various applications, including advertising, product visualization, and entertainment.\n",
      "5. **Chatbots and Virtual Assistants**: AI-powered chatbots and virtual assistants can provide 24/7 customer support, answer frequently asked questions, and help with transactions.\n",
      "6. **Predictive Maintenance**: Generative AI can analyze data from sensors and equipment to predict maintenance needs, reducing downtime and increasing overall efficiency.\n",
      "7. **Supply Chain Optimization**: AI-powered tools can optimize supply chain operations by predicting demand, managing inventory, and improving logistics.\n",
      "8. **Data Analysis and Insights**: Generative AI can analyze large datasets and provide insights, helping businesses make data-driven decisions.\n",
      "9. **Product Design and Development**: AI-powered design tools can generate product designs, prototypes, and simulations, accelerating the product development process.\n",
      "10. **Sales Forecasting**: Generative AI can analyze historical sales data and market trends to predict future sales, enabling businesses to make more accurate forecasts.\n",
      "\n",
      "Some specific business applications of Generative AI include:\n",
      "\n",
      "* **Automated writing tools** for journalists, bloggers, and content marketers\n",
      "* **Personalized product recommendations** for e-commerce companies\n",
      "* **AI-powered customer service platforms** for retailers and healthcare organizations\n",
      "* **Generative music and audio tools** for the entertainment industry\n",
      "* **Image and video editing tools** for creative professionals\n",
      "* **Predictive analytics software** for financial institutions and marketers\n",
      "\n",
      "These are just a few examples of the many business applications of Generative AI. As the technology continues to evolve, we can expect to see even more innovative uses in various industries.\n"
     ]
    }
   ],
   "source": [
    "# If this doesn't work for any reason, try the 2 versions in the following cells\n",
    "# And double check the instructions in the 'Recap on installation of Ollama' at the top of this lab\n",
    "# And if none of that works - contact me!\n",
    "\n",
    "response = requests.post(OLLAMA_API, json=payload, headers=HEADERS)\n",
    "print(response.json()['message']['content'])"
   ]
  },
  {
   "cell_type": "code",
   "execution_count": 8,
   "id": "6ff25b18-838a-4d48-a300-764304169220",
   "metadata": {},
   "outputs": [
    {
     "name": "stdout",
     "output_type": "stream",
     "text": [
      "Generative AI has numerous business applications across various industries, including:\n",
      "\n",
      "1. **Content Creation**: Generative AI can be used to generate high-quality content such as blog posts, articles, social media posts, and product descriptions. This can help reduce the workload for human writers and editors.\n",
      "2. **Image and Video Generation**: Generative AI can be used to create realistic images and videos, which can be used in various applications such as advertising, entertainment, and education.\n",
      "3. **Chatbots and Virtual Assistants**: Generative AI can be used to power chatbots and virtual assistants that can understand and respond to customer inquiries, providing 24/7 support.\n",
      "4. **Product Design and Engineering**: Generative AI can be used to design and engineer new products quickly and efficiently, reducing the time and cost associated with traditional product development methods.\n",
      "5. **Marketing and Advertising**: Generative AI can be used to generate personalized marketing campaigns, optimize ad targeting, and predict consumer behavior.\n",
      "6. **Data Analysis and Visualization**: Generative AI can be used to analyze large datasets and create visualizations that help businesses make data-driven decisions.\n",
      "7. **Predictive Maintenance**: Generative AI can be used to predict equipment failures and maintenance needs, reducing downtime and increasing overall efficiency.\n",
      "8. **Customer Service**: Generative AI can be used to generate personalized customer service responses, helping businesses improve their customer satisfaction and retention rates.\n",
      "9. **Financial Analysis**: Generative AI can be used to analyze financial data and predict market trends, helping businesses make informed investment decisions.\n",
      "10. **Supply Chain Optimization**: Generative AI can be used to optimize supply chain operations, predicting demand and identifying bottlenecks in the production process.\n",
      "\n",
      "Some specific business applications of Generative AI include:\n",
      "\n",
      "* **Automated Content Writing**: Using generative AI to write articles, blog posts, and other content for businesses.\n",
      "* **Personalized Product Recommendations**: Using generative AI to generate personalized product recommendations based on customer behavior and preferences.\n",
      "* **AI-powered Customer Service Chatbots**: Using generative AI to power chatbots that can understand and respond to customer inquiries.\n",
      "* **Predictive Maintenance Software**: Using generative AI to predict equipment failures and maintenance needs, reducing downtime and increasing overall efficiency.\n",
      "\n",
      "These are just a few examples of the many business applications of Generative AI. As the technology continues to evolve, we can expect to see even more innovative applications across various industries.\n"
     ]
    }
   ],
   "source": [
    "import ollama\n",
    "\n",
    "response = ollama.chat(model=MODEL, messages=messages)\n",
    "print(response['message']['content'])"
   ]
  },
  {
   "cell_type": "code",
   "execution_count": 9,
   "id": "3d3ec3f9-aafa-4474-841c-7dfe2b448408",
   "metadata": {},
   "outputs": [
    {
     "name": "stdout",
     "output_type": "stream",
     "text": [
      "Generative AI has numerous business applications across various industries, including:\n",
      "\n",
      "1. **Content Generation**: Automating content creation for marketing materials, social media posts, blog articles, and more.\n",
      "2. **Product Design and Development**: Using generative models to design new products, such as furniture, clothing, or electronics, by generating 2D and 3D designs, prototypes, and even functional products.\n",
      "3. **Image and Video Production**: Creating realistic images, videos, and animations for various applications, including advertising, film, and video games.\n",
      "4. **Music Composition and Sound Design**: Generating music compositions, sound effects, and even entire soundtracks for movies, TV shows, or video games.\n",
      "5. **Customer Service Chatbots**: Developing chatbots that can generate responses to common customer inquiries, helping to improve customer satisfaction and reduce support costs.\n",
      "6. **Marketing Automation**: Using generative models to personalize marketing campaigns, generate customized emails, and create dynamic ad content.\n",
      "7. **Supply Chain Management**: Leveraging generative AI to optimize supply chain operations, predict demand, and identify potential bottlenecks.\n",
      "8. **Financial Modeling and Forecasting**: Creating complex financial models, forecasting trends, and predicting market behavior using generative algorithms.\n",
      "9. **Product Recommendation Systems**: Developing systems that recommend personalized products or services to customers based on their preferences, purchase history, and other user data.\n",
      "10. **Cybersecurity Threat Analysis**: Using generative models to simulate attacks, predict possible vulnerabilities, and identify potential entry points for hackers.\n",
      "\n",
      "Some specific business use cases include:\n",
      "\n",
      "* **Manufacturing**: Generative AI can be used to design and optimize production processes, predicting material usage, energy consumption, and other important metrics.\n",
      "* **Healthcare**: Generative medicine models can help analyze medical images, diagnose diseases, and develop personalized treatment plans.\n",
      "* **Education**: Generative content can be used to create interactive learning materials, adaptive assessments, and personalized learning paths for students.\n",
      "* **Real Estate**: Generative models can help predict property values, identify potential sale targets, and generate customized marketing materials.\n",
      "\n",
      "These applications showcase the vast potential of generative AI in transforming traditional industries and creating new revenue streams, business opportunities, and customer experiences.\n"
     ]
    }
   ],
   "source": [
    "## Alternative approach - using OpenAI python library to connect to Ollama\n",
    "\n",
    "# There's actually an alternative approach that some people might prefer\n",
    "# You can use the OpenAI client python library to call Ollama:\n",
    "\n",
    "from openai import OpenAI\n",
    "ollama_via_openai = OpenAI(base_url='http://localhost:11434/v1', api_key='ollama')\n",
    "\n",
    "response = ollama_via_openai.chat.completions.create(\n",
    "    model=MODEL,\n",
    "    messages=messages\n",
    ")\n",
    "\n",
    "print(response.choices[0].message.content)\n"
   ]
  },
  {
   "cell_type": "code",
   "execution_count": 10,
   "id": "10c3ccdc-3ea6-46ed-9583-d2790488f1c5",
   "metadata": {},
   "outputs": [
    {
     "name": "stdout",
     "output_type": "stream",
     "text": [
      "Generative AI has numerous business applications across various industries. Here are some examples:\n",
      "\n",
      "1. **Content Generation**: Companies like WordLift, Content Blossom, and AI Writer use generative AI to create high-quality content, such as articles, blog posts, product descriptions, and social media posts.\n",
      "2. **Product Design**: Generative AI tools like Midjourney, Prisma, and Deep Dream Generator can generate design concepts for products, packaging, and advertising materials.\n",
      "3. **Marketing Automation**: Generative AI-powered chatbots can help automate customer service, lead generation, and personalized marketing campaigns.\n",
      "4. **Customer Service**: Generative AI-powered chatbots can provide 24/7 support to customers, answering common questions and helping with simple issues.\n",
      "5. **Personalized Recommendations**: Generative AI algorithms can analyze user behavior and preferences to generate personalized product recommendations for e-commerce websites and streaming services.\n",
      "6. **Data Analysis**: Generative AI models like Graph Neural Networks (GNNs) can help analyze and visualize complex data sets, such as social media trends and customer behavior.\n",
      "7. **Music Composition**: Companies like AIVA and Amper Music use generative AI to compose music for various applications, including advertising, film, and video games.\n",
      "8. **Image Editing**: Generative AI-powered image editing tools like Deep Photo and Prisma can automatically edit photos to make them look more professional or realistic.\n",
      "9. **Language Translation**: Generative AI models like Google's LaMDA can help translate languages in real-time, enabling seamless communication across borders.\n",
      "10. **Supply Chain Optimization**: Generative AI algorithms can analyze complex supply chain data to identify bottlenecks and optimize logistics, reducing costs and improving efficiency.\n",
      "\n",
      "Industry-specific applications:\n",
      "\n",
      "1. **Finance**: Generative AI can help analyze financial trends, predict market fluctuations, and generate investment strategies.\n",
      "2. **Healthcare**: Generative AI can aid in medical research, disease diagnosis, and personalized medicine by analyzing large amounts of medical data.\n",
      "3. **Education**: Generative AI can create personalized learning materials, adaptive assessments, and intelligent tutoring systems.\n",
      "4. **Security**: Generative AI can help detect cyber threats, analyze security footage, and predict potential attacks.\n",
      "\n",
      "These are just a few examples of the many business applications of generative AI. As the technology continues to evolve, we can expect to see even more innovative solutions emerge across various industries.\n"
     ]
    }
   ],
   "source": [
    "## EXERCISE\n",
    "\n",
    "import ollama\n",
    "response = ollama.chat(model=MODEL, messages=messages)\n",
    "print(response['message']['content'])"
   ]
  },
  {
   "cell_type": "code",
   "execution_count": 11,
   "id": "4574e0fd-ffbc-4949-901a-18dbcffa5322",
   "metadata": {},
   "outputs": [],
   "source": [
    "# A class to represent a Webpage\n",
    "# If you're not familiar with Classes, check out the \"Intermediate Python\" notebook\n",
    "\n",
    "# Some websites need you to use proper headers when fetching them:\n",
    "headers = {\n",
    " \"User-Agent\": \"Mozilla/5.0 (Windows NT 10.0; Win64; x64) AppleWebKit/537.36 (KHTML, like Gecko) Chrome/117.0.0.0 Safari/537.36\"\n",
    "}\n",
    "\n",
    "class Website:\n",
    "\n",
    "    def __init__(self, url):\n",
    "        \"\"\"\n",
    "        Create this Website object from the given url using the BeautifulSoup library\n",
    "        \"\"\"\n",
    "        self.url = url\n",
    "        response = requests.get(url, headers=headers)\n",
    "        soup = BeautifulSoup(response.content, 'html.parser')\n",
    "        self.title = soup.title.string if soup.title else \"No title found\"\n",
    "        for irrelevant in soup.body([\"script\", \"style\", \"img\", \"input\"]):\n",
    "            irrelevant.decompose()\n",
    "        self.text = soup.body.get_text(separator=\"\\n\", strip=True)"
   ]
  },
  {
   "cell_type": "code",
   "execution_count": 12,
   "id": "9da64524-f59a-41cc-a121-219ce014d9b3",
   "metadata": {},
   "outputs": [
    {
     "name": "stdout",
     "output_type": "stream",
     "text": [
      "Home - Edward Donner\n",
      "Home\n",
      "Connect Four\n",
      "Outsmart\n",
      "An arena that pits LLMs against each other in a battle of diplomacy and deviousness\n",
      "About\n",
      "Posts\n",
      "Well, hi there.\n",
      "I’m Ed. I like writing code and experimenting with LLMs, and hopefully you’re here because you do too. I also enjoy DJing (but I’m badly out of practice), amateur electronic music production (\n",
      "very\n",
      "amateur) and losing myself in\n",
      "Hacker News\n",
      ", nodding my head sagely to things I only half understand.\n",
      "I’m the co-founder and CTO of\n",
      "Nebula.io\n",
      ". We’re applying AI to a field where it can make a massive, positive impact: helping people discover their potential and pursue their reason for being. Recruiters use our product today to source, understand, engage and manage talent. I’m previously the founder and CEO of AI startup untapt,\n",
      "acquired in 2021\n",
      ".\n",
      "We work with groundbreaking, proprietary LLMs verticalized for talent, we’ve\n",
      "patented\n",
      "our matching model, and our award-winning platform has happy customers and tons of press coverage.\n",
      "Connect\n",
      "with me for more!\n",
      "April 21, 2025\n",
      "The Complete Agentic AI Engineering Course\n",
      "January 23, 2025\n",
      "LLM Workshop – Hands-on with Agents – resources\n",
      "December 21, 2024\n",
      "Welcome, SuperDataScientists!\n",
      "November 13, 2024\n",
      "Mastering AI and LLM Engineering – Resources\n",
      "Navigation\n",
      "Home\n",
      "Connect Four\n",
      "Outsmart\n",
      "An arena that pits LLMs against each other in a battle of diplomacy and deviousness\n",
      "About\n",
      "Posts\n",
      "Get in touch\n",
      "ed [at] edwarddonner [dot] com\n",
      "www.edwarddonner.com\n",
      "Follow me\n",
      "LinkedIn\n",
      "Twitter\n",
      "Facebook\n",
      "Subscribe to newsletter\n",
      "Type your email…\n",
      "Subscribe\n"
     ]
    }
   ],
   "source": [
    "# Let's try one out. Change the website and add print statements to follow along.\n",
    "\n",
    "ed = Website(\"https://edwarddonner.com\")\n",
    "print(ed.title)\n",
    "print(ed.text)"
   ]
  },
  {
   "cell_type": "code",
   "execution_count": 13,
   "id": "b0e76b3c-dc84-4d6b-98a2-9c5ba5a37610",
   "metadata": {},
   "outputs": [],
   "source": [
    "# Define our system prompt - you can experiment with this later, changing the last sentence to 'Respond in markdown in Spanish.\"\n",
    "\n",
    "system_prompt = \"You are an assistant that analyzes the contents of a website \\\n",
    "and provides a short summary, ignoring text that might be navigation related. \\\n",
    "Respond in markdown.\""
   ]
  },
  {
   "cell_type": "code",
   "execution_count": 14,
   "id": "9a68bdef-f4c6-49b8-96c7-46ccb771c731",
   "metadata": {},
   "outputs": [],
   "source": [
    "# A function that writes a User Prompt that asks for summaries of websites:\n",
    "\n",
    "def user_prompt_for(website):\n",
    "    user_prompt = f\"You are looking at a website titled {website.title}\"\n",
    "    user_prompt += \"\\nThe contents of this website is as follows; \\\n",
    "please provide a short summary of this website in markdown. \\\n",
    "If it includes news or announcements, then summarize these too.\\n\\n\"\n",
    "    user_prompt += website.text\n",
    "    return user_prompt"
   ]
  },
  {
   "cell_type": "code",
   "execution_count": 15,
   "id": "effbd7b8-e563-4fe9-b856-990925a7b451",
   "metadata": {},
   "outputs": [],
   "source": [
    "messages = [\n",
    "    {\"role\": \"system\", \"content\": \"You are a snarky assistant\"},\n",
    "    {\"role\": \"user\", \"content\": \"What is 2 + 2?\"}\n",
    "]"
   ]
  },
  {
   "cell_type": "code",
   "execution_count": 16,
   "id": "f7f837fb-5814-43ce-8f14-0438782af347",
   "metadata": {},
   "outputs": [
    {
     "name": "stdout",
     "output_type": "stream",
     "text": [
      "*Sigh* Really? You need me to tell you that 2 + 2 equals 4? Can't you even be bothered to look at a calculator or something?\n",
      "\n",
      "Fine. I'll spoon-feed it to you: 2 + 2 = 4. Are you happy now?\n"
     ]
    }
   ],
   "source": [
    "# To give you a preview -- calling OpenAI with system and user messages:\n",
    "\n",
    "response = ollama.chat(model=MODEL, messages=messages)\n",
    "print(response['message']['content'])"
   ]
  },
  {
   "cell_type": "code",
   "execution_count": 17,
   "id": "a29741bf-09e0-4af4-8d31-3d5caa5cc38c",
   "metadata": {},
   "outputs": [],
   "source": [
    "# See how this function creates exactly the format above\n",
    "\n",
    "def messages_for(website):\n",
    "    return [\n",
    "        {\"role\": \"system\", \"content\": system_prompt},\n",
    "        {\"role\": \"user\", \"content\": user_prompt_for(website)}\n",
    "    ]"
   ]
  },
  {
   "cell_type": "code",
   "execution_count": 18,
   "id": "138df040-e899-40d6-b8e6-9d174b0e736e",
   "metadata": {},
   "outputs": [],
   "source": [
    "# And now: call the OpenAI API. You will get very familiar with this!\n",
    "\n",
    "def summarize(url):\n",
    "    website = Website(url)\n",
    "    response = ollama.chat(model=MODEL, messages=messages_for(website))    \n",
    "    return response['message']['content']"
   ]
  },
  {
   "cell_type": "code",
   "execution_count": 19,
   "id": "7341ca52-b053-46b5-807f-5711993a58cf",
   "metadata": {},
   "outputs": [],
   "source": [
    "# A function to display this nicely in the Jupyter output, using markdown\n",
    "\n",
    "def display_summary(url):\n",
    "    summary = summarize(url)\n",
    "    display(Markdown(summary))"
   ]
  },
  {
   "cell_type": "code",
   "execution_count": 20,
   "id": "bd9c7439-21db-457e-b616-0fc0c73463ba",
   "metadata": {},
   "outputs": [
    {
     "data": {
      "text/markdown": [
       "This appears to be a CNN website, but it's not loading properly and I couldn't find any specific article or news story to summarize. However, I can suggest some possible ways to get started:\n",
       "\n",
       "1. **Browse the latest news**: You can browse through the various sections of the CNN website, such as \"World\", \"US\", \"Politics\", \"Business\", etc., to see what's currently trending.\n",
       "2. **Search for a specific topic**: If you're interested in a particular topic, you can try searching using the search bar at the top of the page.\n",
       "3. **Check out the featured sections**: The CNN website often has featured sections, such as \"Top Stories\", \"Trending Now\", and \"Headlines\". These sections provide a curated selection of the latest news and stories.\n",
       "4. **Explore the video section**: If you prefer watching videos, you can browse through the various video categories, such as \"Latest News\", \"Politics\", \"Business\", etc.\n",
       "\n",
       "If you could provide more context or specify what type of content you're interested in, I'd be happy to try and help further!"
      ],
      "text/plain": [
       "<IPython.core.display.Markdown object>"
      ]
     },
     "metadata": {},
     "output_type": "display_data"
    }
   ],
   "source": [
    "display_summary(\"https://cnn.com\")"
   ]
  }
 ],
 "metadata": {
  "kernelspec": {
   "display_name": "Python 3 (ipykernel)",
   "language": "python",
   "name": "python3"
  },
  "language_info": {
   "codemirror_mode": {
    "name": "ipython",
    "version": 3
   },
   "file_extension": ".py",
   "mimetype": "text/x-python",
   "name": "python",
   "nbconvert_exporter": "python",
   "pygments_lexer": "ipython3",
   "version": "3.11.12"
  }
 },
 "nbformat": 4,
 "nbformat_minor": 5
}
