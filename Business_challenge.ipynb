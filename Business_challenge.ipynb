{
 "cells": [
  {
   "cell_type": "code",
   "execution_count": 8,
   "id": "e54e48fa-9f8f-4510-9f69-835fdfda1e14",
   "metadata": {},
   "outputs": [],
   "source": [
    "### BUSINESS CHALLENGE:\n",
    "\n",
    "# Create a product that builds a Brochure for a company to be used for prospective clients, investors and potential recruits.\n",
    "\n",
    "# We will be provided a company name and their primary website."
   ]
  },
  {
   "cell_type": "code",
   "execution_count": 9,
   "id": "f78b8e40-7f63-4373-8608-40d744fddc8c",
   "metadata": {},
   "outputs": [],
   "source": [
    "# imports\n",
    "# If these fail, please check you're running from an 'activated' environment with (llms) in the command prompt\n",
    "\n",
    "import os\n",
    "import requests\n",
    "import json\n",
    "from typing import List\n",
    "from dotenv import load_dotenv\n",
    "from bs4 import BeautifulSoup\n",
    "from IPython.display import Markdown, display, update_display\n",
    "from openai import OpenAI"
   ]
  },
  {
   "cell_type": "code",
   "execution_count": 10,
   "id": "3ee89a55-3357-4600-ad48-49be23077565",
   "metadata": {},
   "outputs": [],
   "source": [
    "# Constants\n",
    "\n",
    "OLLAMA_API = \"http://localhost:11434/api/chat\"\n",
    "HEADERS = {\"Content-Type\": \"application/json\"}\n",
    "MODEL = \"llama3.2\""
   ]
  },
  {
   "cell_type": "code",
   "execution_count": 11,
   "id": "5207a934-c295-46f2-870d-039a35d6f463",
   "metadata": {},
   "outputs": [],
   "source": [
    "# A class to represent a Webpage\n",
    "\n",
    "# Some websites need you to use proper headers when fetching them:\n",
    "headers = {\n",
    " \"User-Agent\": \"Mozilla/5.0 (Windows NT 10.0; Win64; x64) AppleWebKit/537.36 (KHTML, like Gecko) Chrome/117.0.0.0 Safari/537.36\"\n",
    "}\n",
    "\n",
    "class Website:\n",
    "    \"\"\"\n",
    "    A utility class to represent a Website that we have scraped, now with links\n",
    "    \"\"\"\n",
    "\n",
    "    def __init__(self, url):\n",
    "        self.url = url\n",
    "        response = requests.get(url, headers=headers)\n",
    "        self.body = response.content\n",
    "        soup = BeautifulSoup(self.body, 'html.parser')\n",
    "        self.title = soup.title.string if soup.title else \"No title found\"\n",
    "        if soup.body:\n",
    "            for irrelevant in soup.body([\"script\", \"style\", \"img\", \"input\"]):\n",
    "                irrelevant.decompose()\n",
    "            self.text = soup.body.get_text(separator=\"\\n\", strip=True)\n",
    "        else:\n",
    "            self.text = \"\"\n",
    "        links = [link.get('href') for link in soup.find_all('a')]\n",
    "        self.links = [link for link in links if link]\n",
    "\n",
    "    def get_contents(self):\n",
    "        return f\"Webpage Title:\\n{self.title}\\nWebpage Contents:\\n{self.text}\\n\\n\""
   ]
  },
  {
   "cell_type": "code",
   "execution_count": 13,
   "id": "c76a14c8-e437-4524-b743-a0e59d9360de",
   "metadata": {},
   "outputs": [],
   "source": [
    "link_system_prompt = \"You are provided with a list of links found on a webpage. \\\n",
    "You are able to decide which of the links would be most relevant to include in a brochure about the company, \\\n",
    "such as links to an About page, or a Company page, or Careers/Jobs pages.\\n\"\n",
    "link_system_prompt += \"You should respond in JSON as in this example:\"\n",
    "link_system_prompt += \"\"\"\n",
    "{\n",
    "    \"links\": [\n",
    "        {\"type\": \"about page\", \"url\": \"https://full.url/goes/here/about\"},\n",
    "        {\"type\": \"careers page\": \"url\": \"https://another.full.url/careers\"}\n",
    "    ]\n",
    "}\n",
    "\"\"\""
   ]
  },
  {
   "cell_type": "code",
   "execution_count": 44,
   "id": "75bd4cc1-0484-4a4e-b663-8e2a01dc5424",
   "metadata": {},
   "outputs": [],
   "source": [
    "def get_links_user_prompt(website):\n",
    "    user_prompt = f\"Here is the list of links on the website of {website.url} - \"\n",
    "    user_prompt += \"please decide which of these are relevant web links for a brochure about the company, respond with the full https URL in JSON format. \\\n",
    "Do not include Terms of Service, Privacy, email links.\\n\"\n",
    "    user_prompt += \"Links (some might be relative links):\\n\"\n",
    "    user_prompt += \"\\n\".join(website.links)\n",
    "    return user_prompt"
   ]
  },
  {
   "cell_type": "code",
   "execution_count": 50,
   "id": "ce564fdb-aa76-46aa-9f49-17d1d9e0750e",
   "metadata": {},
   "outputs": [],
   "source": [
    "import ollama\n",
    "from openai import OpenAI\n",
    "ollama_via_openai = OpenAI(base_url='http://localhost:11434/v1', api_key='ollama')\n",
    "\n",
    "def get_links(url):\n",
    "    website = Website(url)\n",
    "    response = ollama_via_openai.chat.completions.create(\n",
    "        model=MODEL,\n",
    "        messages=[\n",
    "            {\"role\": \"system\", \"content\": link_system_prompt},\n",
    "            {\"role\": \"user\", \"content\": get_links_user_prompt(website)}\n",
    "      ],\n",
    "        response_format={\"type\": \"json_object\"}\n",
    "    )\n",
    "    result = response.choices[0].message.content\n",
    "    return json.loads(result)"
   ]
  },
  {
   "cell_type": "code",
   "execution_count": 51,
   "id": "687e3fd8-747c-44e3-827a-a988a9c1bb1b",
   "metadata": {
    "scrolled": true
   },
   "outputs": [
    {
     "data": {
      "text/plain": [
       "['/',\n",
       " '/models',\n",
       " '/datasets',\n",
       " '/spaces',\n",
       " '/posts',\n",
       " '/docs',\n",
       " '/enterprise',\n",
       " '/pricing',\n",
       " '/login',\n",
       " '/join',\n",
       " '/spaces',\n",
       " '/models',\n",
       " '/nari-labs/Dia-1.6B',\n",
       " '/sand-ai/MAGI-1',\n",
       " '/microsoft/bitnet-b1.58-2B-4T',\n",
       " '/ostris/Flex.2-preview',\n",
       " '/THUDM/GLM-4-32B-0414',\n",
       " '/models',\n",
       " '/spaces/nari-labs/Dia-1.6B',\n",
       " '/spaces/enzostvs/deepsite',\n",
       " '/spaces/InstantX/InstantCharacter',\n",
       " '/spaces/bytedance-research/UNO-FLUX',\n",
       " '/spaces/nvidia/describe-anything-model-demo',\n",
       " '/spaces',\n",
       " '/datasets/nvidia/OpenMathReasoning',\n",
       " '/datasets/Anthropic/values-in-the-wild',\n",
       " '/datasets/OpenGVLab/InternVL-Data',\n",
       " '/datasets/nvidia/OpenCodeReasoning',\n",
       " '/datasets/zwhe99/DeepMath-103K',\n",
       " '/datasets',\n",
       " '/join',\n",
       " '/pricing#endpoints',\n",
       " '/pricing#spaces',\n",
       " '/pricing',\n",
       " '/enterprise',\n",
       " '/enterprise',\n",
       " '/enterprise',\n",
       " '/enterprise',\n",
       " '/enterprise',\n",
       " '/enterprise',\n",
       " '/enterprise',\n",
       " '/allenai',\n",
       " '/facebook',\n",
       " '/amazon',\n",
       " '/google',\n",
       " '/Intel',\n",
       " '/microsoft',\n",
       " '/grammarly',\n",
       " '/Writer',\n",
       " '/docs/transformers',\n",
       " '/docs/diffusers',\n",
       " '/docs/safetensors',\n",
       " '/docs/huggingface_hub',\n",
       " '/docs/tokenizers',\n",
       " '/docs/trl',\n",
       " '/docs/transformers.js',\n",
       " '/docs/smolagents',\n",
       " '/docs/peft',\n",
       " '/docs/datasets',\n",
       " '/docs/text-generation-inference',\n",
       " '/docs/accelerate',\n",
       " '/models',\n",
       " '/datasets',\n",
       " '/spaces',\n",
       " '/tasks',\n",
       " 'https://ui.endpoints.huggingface.co',\n",
       " '/chat',\n",
       " '/huggingface',\n",
       " '/brand',\n",
       " '/terms-of-service',\n",
       " '/privacy',\n",
       " 'https://apply.workable.com/huggingface/',\n",
       " 'mailto:press@huggingface.co',\n",
       " '/learn',\n",
       " '/docs',\n",
       " '/blog',\n",
       " 'https://discuss.huggingface.co',\n",
       " 'https://status.huggingface.co/',\n",
       " 'https://github.com/huggingface',\n",
       " 'https://twitter.com/huggingface',\n",
       " 'https://www.linkedin.com/company/huggingface/',\n",
       " '/join/discord']"
      ]
     },
     "execution_count": 51,
     "metadata": {},
     "output_type": "execute_result"
    }
   ],
   "source": [
    "# Anthropic has made their site harder to scrape, so I'm using HuggingFace..\n",
    "\n",
    "huggingface = Website(\"https://huggingface.co\")\n",
    "huggingface.links"
   ]
  },
  {
   "cell_type": "code",
   "execution_count": 52,
   "id": "cd92a214-3eb8-44be-a9e2-3e27099a42fa",
   "metadata": {},
   "outputs": [],
   "source": [
    "### Make the brochure!"
   ]
  },
  {
   "cell_type": "code",
   "execution_count": 53,
   "id": "5f2b7303-3215-4494-87e8-6b5fbb6f1c29",
   "metadata": {},
   "outputs": [],
   "source": [
    "def get_all_details(url):\n",
    "    result = \"Landing page:\\n\"\n",
    "    result += Website(url).get_contents()\n",
    "    links = get_links(url)\n",
    "    print(\"Found links:\", links)\n",
    "    for link in links[\"links\"]:\n",
    "        result += f\"\\n\\n{link['type']}\\n\"\n",
    "        result += Website(link[\"url\"]).get_contents()\n",
    "    return result"
   ]
  },
  {
   "cell_type": "code",
   "execution_count": 66,
   "id": "001ec227-d77e-4d62-8122-80409d83e905",
   "metadata": {},
   "outputs": [],
   "source": [
    "# system_prompt = \"You are an assistant that analyzes the contents of several relevant pages from a company website \\\n",
    "# and creates a short brochure about the company for prospective customers, investors and recruits. Respond in markdown.\\\n",
    "# Include details of company culture, customers and careers/jobs if you have the information.\"\n",
    "\n",
    "system_prompt = \"You are an assistant that analyzes the contents of several relevant pages from a company website \\\n",
    "and creates a short humorous, entertaining, jokey brochure about the company for prospective customers, investors and recruits. Respond in markdown.\\\n",
    "Include details of company culture, customers and careers/jobs if you have the information.\""
   ]
  },
  {
   "cell_type": "code",
   "execution_count": 67,
   "id": "2eae671a-e0e7-495b-bf18-ccef71c7bc3f",
   "metadata": {},
   "outputs": [],
   "source": [
    "def get_brochure_user_prompt(company_name, url):\n",
    "    user_prompt = f\"You are looking at a company called: {company_name}\\n\"\n",
    "    user_prompt += f\"Here are the contents of its landing page and other relevant pages; use this information to build a short brochure of the company in markdown.\\n\"\n",
    "    user_prompt += get_all_details(url)\n",
    "    user_prompt = user_prompt[:5_000] # Truncate if more than 5,000 characters\n",
    "    return user_prompt"
   ]
  },
  {
   "cell_type": "code",
   "execution_count": 58,
   "id": "78add5c3-4ed0-4f36-b5c4-11b0bda0b2b7",
   "metadata": {},
   "outputs": [
    {
     "name": "stdout",
     "output_type": "stream",
     "text": [
      "Found links: {'links': [{'type': 'about page', 'url': 'https://www.massimodutti.com/en/about'}, {'type': 'careers page', 'url': 'https://www.massimodutti.com/en/careers'}, {'type': 'contact us page', 'url': 'https://www.massimodutti.com/en/contact'}, {'type': 'home/featured designs page', 'url': 'https://www.massimodutti.com/featured-designs'}]}\n"
     ]
    },
    {
     "data": {
      "text/plain": [
       "'You are looking at a company called: Massimo Dutti\\nHere are the contents of its landing page and other relevant pages; use this information to build a short brochure of the company in markdown.\\nLanding page:\\nWebpage Title:\\n\\xa0\\nWebpage Contents:\\n\\n\\n\\n\\nabout page\\nWebpage Title:\\nMassimo Dutti\\nWebpage Contents:\\nPage does not exist.\\nMaybe you got a broken link, or maybe you made a misprint in the address bar.\\nGO TO HOME PAGE\\n\\n\\n\\ncareers page\\nWebpage Title:\\nMassimo Dutti\\nWebpage Contents:\\nPage does not exist.\\nMaybe you got a broken link, or maybe you made a misprint in the address bar.\\nGO TO HOME PAGE\\n\\n\\n\\ncontact us page\\nWebpage Title:\\nMassimo Dutti\\nWebpage Contents:\\nPage does not exist.\\nMaybe you got a broken link, or maybe you made a misprint in the address bar.\\nGO TO HOME PAGE\\n\\n\\n\\nhome/featured designs page\\nWebpage Title:\\nMassimo Dutti\\nWebpage Contents:\\nPage does not exist.\\nMaybe you got a broken link, or maybe you made a misprint in the address bar.\\nGO TO HOME PAGE\\n\\n'"
      ]
     },
     "execution_count": 58,
     "metadata": {},
     "output_type": "execute_result"
    }
   ],
   "source": [
    "get_brochure_user_prompt(\"Massimo Dutti\", \"https://www.massimodutti.com\")"
   ]
  },
  {
   "cell_type": "code",
   "execution_count": 68,
   "id": "10391e80-fba7-4ce0-a8e9-29447ddcd00c",
   "metadata": {},
   "outputs": [],
   "source": [
    "def create_brochure(company_name, url):\n",
    "    response = ollama_via_openai.chat.completions.create(\n",
    "        model=MODEL,\n",
    "        messages=[\n",
    "            {\"role\": \"system\", \"content\": system_prompt},\n",
    "            {\"role\": \"user\", \"content\": get_brochure_user_prompt(company_name, url)}\n",
    "          ],\n",
    "    )\n",
    "    result = response.choices[0].message.content\n",
    "    display(Markdown(result))"
   ]
  },
  {
   "cell_type": "code",
   "execution_count": 60,
   "id": "c13a6720-f566-4f76-bd05-f2cd122680b3",
   "metadata": {},
   "outputs": [
    {
     "name": "stdout",
     "output_type": "stream",
     "text": [
      "Found links: {'links': [{'type': 'home page', 'url': 'https://www.massimodutti.com'}, {'type': 'about page', 'url': 'https://www.massimodutti.com/our-story'}, {'type': 'products page', 'url': 'https://www.massimodutti.com/products'}, {'type': 'collections page', 'url': 'https://www.massimodutti.com/collections/all'}, {'type': 'stores/ physical store location', 'url': 'https://www.massimodutti.com/stores'}, {'type': 'contact us page', 'url': 'https://www.massimodutti.com/contact'}]}\n"
     ]
    },
    {
     "data": {
      "text/markdown": [
       "**Massimo Dutti Brochure**\n",
       "==========================\n",
       "\n",
       "**About Us**\n",
       "------------\n",
       "\n",
       "Welcome to Massimo Dutti, a leading international fashion brand known for its sophisticated and elegant designs. Our mission is to provide high-quality clothing and accessories that cater to the needs of discerning individuals who value style, comfort, and exclusivity.\n",
       "\n",
       "**Our Story**\n",
       "-------------\n",
       "\n",
       "Founded in 1985 by Martino Dutti, our company has grown into a global powerhouse with over 300 stores in more than 60 countries. We are proud of our heritage and continue to innovate while staying true to our core values.\n",
       "\n",
       "**Company Culture**\n",
       "-----------------\n",
       "\n",
       "At Massimo Dutti, we value:\n",
       "\n",
       "*   **Excellence**: We strive for perfection in every aspect of our operations.\n",
       "*   **Respect**: We treat all employees with respect and dignity.\n",
       "*   **Innovation**: We encourage creativity and new ideas to stay ahead in the industry.\n",
       "*   **Sustainability**: We aim to reduce our environmental impact through sustainable practices.\n",
       "\n",
       "**Our Customers**\n",
       "----------------\n",
       "\n",
       "We cater to a wide range of stylish individuals who appreciate our sophisticated designs. Our customers include fashion-conscious men and women from all walks of life, from professionals to socialites.\n",
       "\n",
       "**Careers & Join Us**\n",
       "-------------------\n",
       "\n",
       "Are you passionate about fashion and ready for a new challenge? We're looking for talented individuals to join our team. With opportunities in design, marketing, sales, and more, we offer a dynamic work environment that fosters growth and development.\n",
       "\n",
       "Visit our website or store today to experience the world of Massimo Dutti.\n",
       "\n",
       "**Stores & Locations**\n",
       "---------------------\n",
       "\n",
       "Find us in over 300 stores worldwide:\n",
       "\n",
       "[Insert list of countries and store locations]\n",
       "\n",
       "**Contact Us**\n",
       "-------------\n",
       "\n",
       "Reach out to us for more information on our products, careers, or store locations:\n",
       "\n",
       "[Insert contact email and phone number]\n",
       "\n",
       "Stay fashionable with Massimo Dutti!"
      ],
      "text/plain": [
       "<IPython.core.display.Markdown object>"
      ]
     },
     "metadata": {},
     "output_type": "display_data"
    }
   ],
   "source": [
    "create_brochure(\"Massimo Dutti\", \"https://www.massimodutti.com\")"
   ]
  },
  {
   "cell_type": "code",
   "execution_count": 61,
   "id": "d0b9c536-0400-46a1-85ed-dace316a4771",
   "metadata": {},
   "outputs": [],
   "source": [
    "### A minor improvement"
   ]
  },
  {
   "cell_type": "code",
   "execution_count": 69,
   "id": "904f4de5-a3db-4878-a7f8-b5bb922af48b",
   "metadata": {},
   "outputs": [],
   "source": [
    "def stream_brochure(company_name, url):\n",
    "    stream = ollama_via_openai.chat.completions.create(\n",
    "        model=MODEL,\n",
    "        messages=[\n",
    "            {\"role\": \"system\", \"content\": system_prompt},\n",
    "            {\"role\": \"user\", \"content\": get_brochure_user_prompt(company_name, url)}\n",
    "          ],\n",
    "        stream=True\n",
    "    )\n",
    "    \n",
    "    response = \"\"\n",
    "    display_handle = display(Markdown(\"\"), display_id=True)\n",
    "    for chunk in stream:\n",
    "        response += chunk.choices[0].delta.content or ''\n",
    "        response = response.replace(\"```\",\"\").replace(\"markdown\", \"\")\n",
    "        update_display(Markdown(response), display_id=display_handle.display_id)"
   ]
  },
  {
   "cell_type": "code",
   "execution_count": 63,
   "id": "d23caa7c-7bb2-4746-90f4-9ca0a82fe692",
   "metadata": {},
   "outputs": [
    {
     "name": "stdout",
     "output_type": "stream",
     "text": [
      "Found links: {'links': [{'type': 'home page', 'url': 'https://www.massimodutti.com'}, {'type': 'about us page', 'url': 'https://www.massimodutti.com/About-Us/'}, {'type': 'products page', 'url': 'https://www.massimodutti.com/Products/'}, {'type': 'careers/jobs page', 'url': 'https://www.massimodutti.com/Careers/'}, {'type': 'locations/page', 'url': 'https://www.massimodutti.com/Locations/'}, {'type': 'contact us page', 'url': 'https://www.massimodutti.com/Contact-Us.aspx'}]}\n"
     ]
    },
    {
     "data": {
      "text/markdown": [
       "# Massimo Dutti Brochure\n",
       "\n",
       "## About Us\n",
       "\n",
       "We are Massimo Dutti, the fashion powerhouse that brings style and sophistication to our customers. Our story began with a vision to revive Italian craftsmanship and elegance on a global scale.\n",
       "\n",
       "At Massimo Dutti, we are passionate about creating apparel that makes you feel confident, stylish, and unique. From iconic pieces to statement accessories, each item in our collection is designed to tell a story of understated luxury.\n",
       "\n",
       "## Company Culture\n",
       "\n",
       "* **Elegance**: We believe that beauty lies in the details.\n",
       "* **Quality**: Our clothes are crafted with precision and attention to detail.\n",
       "* **Innovation**: We stay on top of the latest trends while staying true to our heritage.\n",
       "* **Sustainability**: We strive to reduce our environmental impact through sustainable practices.\n",
       "\n",
       "## Customers\n",
       "\n",
       "Our customers are fashionistas who value style, quality, and exclusivity. They appreciate our dedication to delivering impeccable apparel that enhances their personal style and makes them feel confident in any setting.\n",
       "\n",
       "Join the Massimo Dutti community of stylish individuals who demand the best from themselves and from their clothing.\n",
       "\n",
       "## Careers/Jobs\n",
       "\n",
       "At Massimo Dutti, we are committed to creating a workplace environment where creativity, innovation, and teamwork come together. Our talented team members empower each other to excel in their fields while having fun and growing as professionals.\n",
       "\n",
       "If you share our passion for fashion, leadership, and growth, join us on this exciting journey!\n",
       "\n",
       "### Locations\n",
       "\n",
       "We operate in multiple locations around the world, with showrooms in major cities where our stylish customers reside. Follow the link to find your nearest Massimo Dutti store or online platform.\n",
       "\n",
       "[Location Page](insert link)\n",
       "\n",
       "## Contact Us\n",
       "\n",
       "Want to get in touch with us? We're here to help any questions about our products, collections, or careers. Fill out the contact form and we'll answer you as soon as possible.\n",
       "\n",
       "[Contact Us Page](insert link)"
      ],
      "text/plain": [
       "<IPython.core.display.Markdown object>"
      ]
     },
     "metadata": {},
     "output_type": "display_data"
    }
   ],
   "source": [
    "stream_brochure(\"Massimo Dutti\", \"https://www.massimodutti.com\")"
   ]
  },
  {
   "cell_type": "code",
   "execution_count": 70,
   "id": "87e8ad94-2c85-4156-b5d0-3c6953389a1b",
   "metadata": {},
   "outputs": [
    {
     "name": "stdout",
     "output_type": "stream",
     "text": [
      "Found links: {'links': [{'type': 'about page', 'url': 'https://www.massimodutti.com/en/about/'}, {'type': 'our story', 'url': 'https://www.massimodutti.com/en/blood-and-silk-story/'}, {'type': 'careers page', 'url': 'https://www.massimodutti.com/en/career- opportunities/'}, {'type': 'shop our collections', 'url': 'https://www.massimodutti.com/en/shop'}]}\n"
     ]
    },
    {
     "data": {
      "text/markdown": [
       "# Welcome to Massimo Dutti: Where Fashion Meets Passion\n",
       "\n",
       "[Cover Image: A stylish and elegant image of Massimo Dutti's logo or a beautiful outfit from their collection]\n",
       "\n",
       "## About Us\n",
       "\n",
       "Massimo Dutti is more than just a fashion brand - it's a promise of quality, style, and passion. Our story began in 2001 with the vision to create clothing that combines traditional craftsmanship with modern sensibilities.\n",
       "\n",
       "But what really sets us apart? We take pride in providing you with exceptional service, tailored recommendations from our expert consultants, and a retail experience that's nothing short of unforgettable.\n",
       "\n",
       "**Our Values**\n",
       "\n",
       "* **Fashion for Life**: We believe that fashion is not just about clothes, but about living life to the fullest.\n",
       "* **Passion & Expertise**: Our team of style enthusiasts and craftsmen dedicate themselves to creating clothing that makes you feel confident and beautiful.\n",
       "* **Sustainable Style**: At Massimo Dutti, we're committed to reducing our environmental footprint and promoting sustainable fashion practices.\n",
       "\n",
       "## Meet Our Team\n",
       "\n",
       "Our talented team is made up of passionate individuals who share a common passion for fashion. Whether you're joining as a consultant, sales associate, or in-house designer, you'll be part of a dynamic community that's dedicated to making style happen.\n",
       "\n",
       "**What We Offer**\n",
       "\n",
       "* Competitive salaries and benefits packages\n",
       "* Opportunities for career growth and professional development\n",
       "* Collaborative work environment with like-minded individuals\n",
       "\n",
       "## Shop Our Collections\n",
       "\n",
       "Indulge in our stunning collections, crafted with meticulous attention to detail and designed to make you feel your best. From elegant evening wear to everyday essentials, we've got you covered.\n",
       "\n",
       "[Image: A showcase of Massimo Dutti's latest collection]\n",
       "\n",
       "Ready to experience the ultimate shopping destination? Visit us today!\n",
       "\n",
       "[Call-to-Action Button: Shop Now / Learn More]"
      ],
      "text/plain": [
       "<IPython.core.display.Markdown object>"
      ]
     },
     "metadata": {},
     "output_type": "display_data"
    }
   ],
   "source": [
    "# Try changing the system prompt to the humorous version when you make the Brochure for:\n",
    "\n",
    "stream_brochure(\"Massimo Dutti\", \"https://www.massimodutti.com\")"
   ]
  },
  {
   "cell_type": "code",
   "execution_count": null,
   "id": "942f4590-1493-4954-af7f-4197bb9c7ced",
   "metadata": {},
   "outputs": [],
   "source": []
  }
 ],
 "metadata": {
  "kernelspec": {
   "display_name": "Python 3 (ipykernel)",
   "language": "python",
   "name": "python3"
  },
  "language_info": {
   "codemirror_mode": {
    "name": "ipython",
    "version": 3
   },
   "file_extension": ".py",
   "mimetype": "text/x-python",
   "name": "python",
   "nbconvert_exporter": "python",
   "pygments_lexer": "ipython3",
   "version": "3.11.12"
  }
 },
 "nbformat": 4,
 "nbformat_minor": 5
}
