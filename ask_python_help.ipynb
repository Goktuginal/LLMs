{
 "cells": [
  {
   "cell_type": "code",
   "execution_count": 1,
   "id": "c1070317-3ed9-4659-abe3-828943230e03",
   "metadata": {},
   "outputs": [],
   "source": [
    "# imports\n",
    "\n",
    "from dotenv import load_dotenv\n",
    "from IPython.display import Markdown, display, update_display\n",
    "from openai import OpenAI\n",
    "import ollama"
   ]
  },
  {
   "cell_type": "code",
   "execution_count": null,
   "id": "a8d7923c-5f28-4c30-8556-342d7c8497c1",
   "metadata": {},
   "outputs": [],
   "source": [
    "# set up environment\n",
    "\n",
    "load_dotenv()\n",
    "openai = OpenAI()\n"
   ]
  },
  {
   "cell_type": "code",
   "execution_count": null,
   "id": "8595807b-8ae2-4e1b-95d9-e8532142e8bb",
   "metadata": {},
   "outputs": [],
   "source": [
    "# prompts\n",
    "\n",
    "system_prompt = \"You are a helpful technical tutor who answers questions about python code, software engineering, data science and LLMs\"\n",
    "user_prompt = \"Please give a detailed explanation to the following question: \" + question"
   ]
  },
  {
   "cell_type": "code",
   "execution_count": null,
   "id": "9605cbb6-3d3f-4969-b420-7f4cae0b9328",
   "metadata": {},
   "outputs": [],
   "source": [
    "# messages\n",
    "\n",
    "messages = [\n",
    "    {\"role\": \"system\", \"content\": system_prompt},\n",
    "    {\"role\": \"user\", \"content\": user_prompt}\n",
    "]"
   ]
  },
  {
   "cell_type": "code",
   "execution_count": 3,
   "id": "da663d73-dd2a-4fff-84df-2209cf2b330b",
   "metadata": {},
   "outputs": [],
   "source": [
    "OLLAMA_API = \"http://localhost:11434/api/chat\"\n",
    "HEADERS = {\"Content-Type\": \"application/json\"}\n",
    "MODEL = \"llama3.2\""
   ]
  },
  {
   "cell_type": "code",
   "execution_count": 4,
   "id": "d5da5556-10e6-46d5-829a-ba11d5627838",
   "metadata": {},
   "outputs": [],
   "source": [
    "question = \"\"\"\n",
    "Please explain what this code does and why:\n",
    "yield from {book.get(\"author\") for book in books if book.get(\"author\")}\n",
    "\"\"\""
   ]
  },
  {
   "cell_type": "code",
   "execution_count": 5,
   "id": "f109f2e8-4a3a-4197-94e7-28e583c48114",
   "metadata": {},
   "outputs": [],
   "source": [
    "# prompts\n",
    "\n",
    "system_prompt = \"You are a helpful technical tutor who answers questions about python code, software engineering, data science and LLMs\"\n",
    "user_prompt = \"Please give a detailed explanation to the following question: \" + question"
   ]
  },
  {
   "cell_type": "code",
   "execution_count": 6,
   "id": "360c6175-8fc5-44c8-9613-efb373e721ae",
   "metadata": {},
   "outputs": [],
   "source": [
    "# messages\n",
    "\n",
    "messages = [\n",
    "    {\"role\": \"system\", \"content\": system_prompt},\n",
    "    {\"role\": \"user\", \"content\": user_prompt}\n",
    "]"
   ]
  },
  {
   "cell_type": "code",
   "execution_count": 11,
   "id": "5c9e4cea-c0bc-4b87-be18-286e95375d11",
   "metadata": {},
   "outputs": [
    {
     "data": {
      "text/markdown": [
       "Let's break down the given code snippet and understand its purpose.\n",
       "\n",
       "python\n",
       "yield from {book.get(\"author\") for book in books if book.get(\"author\")}\n",
       "\n",
       "\n",
       "**Explanation:**\n",
       "\n",
       "This line of code is using a combination of Python features to generate an iterable (specifically, a dictionary) that contains author names from a list of books. Here's a step-by-step explanation:\n",
       "\n",
       "1. **Dictionary comprehension:** `book.get(\"author\") for book in books if book.get(\"author\")`\n",
       "\n",
       "   This part of the code is a dictionary comprehension, which is similar to a list comprehension but generates dictionaries instead.\n",
       "\n",
       "   The expression `book.get(\"author\")` tries to retrieve the value associated with key `\"author\"` from each book. If this key does not exist in the book, its default value (which is typically `None` or an empty string) is returned.\n",
       "\n",
       "2. **`yield from`**\n",
       "\n",
       "   In Python 3.3 and later versions, the `yield from` statement has been added to support generators. It allows you to \"pass through\" multiple generators one by one, treating their outputs as if they came directly from a single generator.\n",
       "\n",
       "   In this specific context, `\"yield from\"` is used inside the dictionary comprehension.\n",
       "\n",
       "3. **Generating an iterable dictionary**\n",
       "\n",
       "   When you use `dictionary comprehension`, Python generates a new dictionary for each iteration of the loop defined in the `for` clause (here, it's also iterated over a list of books).\n",
       "\n",
       "   Since we're not doing anything with these individual dictionaries but are rather interested in their values (author names), the use of `\"yield from\" + dictionary comprehension = an iterable iterator`\n",
       "\n",
       "4. **Returning only values and ignoring keys**\n",
       "\n",
       "   Because `book.get(\"author\")` would return a value if present, then the entire expression would work for \"unpacking\" every item in books into just that single value (`the title`) leaving out unwanted key-value combinations.\n",
       "\n",
       "**Real-World Use Cases:**\n",
       "\n",
       "This code snippet is typically used when working with data structures like databases or APIs that have multiple fields, but we are only interested in specific parts of the data (like book titles, author names, etc.).\n",
       "\n",
       "Here's an example use case where you'd often see this:\n",
       "\n",
       "python\n",
       "import asyncio\n",
       "\n",
       "# Assuming books is a list of dictionaries from an API or database.\n",
       "async def fetch_books():\n",
       "    return [{'author': 'John Doe'}, {'author': 'Jane Smith', 'id': 123}, {}]\n",
       "\n",
       "async def main():\n",
       "    books = await fetch_books()\n",
       "\n",
       "    # Extracting the book author's name as an iterable value\n",
       "    authors = yielded_expression(books)\n",
       "\n",
       "    for author in authors:\n",
       "        print(f\"Book Authored by: {author}\")\n",
       "\n",
       "# Running this async function to get the author's names.\n",
       "asyncio.run(main())\n",
       "\n",
       "# 'yielded_expression' is like a dictionary comprehension with some transformations \n",
       "def yielded_expression(books):\n",
       "    yield from {book.get(\"author\") for book in books if book.get(\"author\")} # (Here we add the 'yield from' feature)\n",
       "\n",
       "\n",
       "\n",
       "In summary, this line of code generates an iterable (dictionary) containing author names from a list of books by using dictionary comprehension with `\"yield from\"`, excluding any non-existent books that would cause errors or wasted computation during runtime operations."
      ],
      "text/plain": [
       "<IPython.core.display.Markdown object>"
      ]
     },
     "metadata": {},
     "output_type": "display_data"
    }
   ],
   "source": [
    "from openai import OpenAI\n",
    "ollama_via_openai = OpenAI(base_url='http://localhost:11434/v1', api_key='ollama')\n",
    "\n",
    "stream = ollama_via_openai.chat.completions.create(model=MODEL, messages=messages,stream=True)\n",
    "    \n",
    "response = \"\"\n",
    "display_handle = display(Markdown(\"\"), display_id=True)\n",
    "for chunk in stream:\n",
    "    response += chunk.choices[0].delta.content or ''\n",
    "    response = response.replace(\"```\",\"\").replace(\"markdown\", \"\")\n",
    "    update_display(Markdown(response), display_id=display_handle.display_id)"
   ]
  },
  {
   "cell_type": "code",
   "execution_count": 12,
   "id": "fd53b441-a013-44b9-8861-bffaf183898c",
   "metadata": {},
   "outputs": [],
   "source": [
    "# You could make it better by taking in the question using\n",
    "# my_question = input(\"Please enter your question:\")"
   ]
  },
  {
   "cell_type": "code",
   "execution_count": null,
   "id": "769109c6-d722-446c-9b8e-121d1604b6dc",
   "metadata": {},
   "outputs": [],
   "source": []
  }
 ],
 "metadata": {
  "kernelspec": {
   "display_name": "Python 3 (ipykernel)",
   "language": "python",
   "name": "python3"
  },
  "language_info": {
   "codemirror_mode": {
    "name": "ipython",
    "version": 3
   },
   "file_extension": ".py",
   "mimetype": "text/x-python",
   "name": "python",
   "nbconvert_exporter": "python",
   "pygments_lexer": "ipython3",
   "version": "3.11.12"
  }
 },
 "nbformat": 4,
 "nbformat_minor": 5
}
